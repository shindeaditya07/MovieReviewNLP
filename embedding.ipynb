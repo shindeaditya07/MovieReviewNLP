{
 "cells": [
  {
   "cell_type": "code",
   "execution_count": null,
   "id": "f1e802ca",
   "metadata": {},
   "outputs": [],
   "source": [
    "from tensorflow.keras.preprocessing.text import one_hot"
   ]
  },
  {
   "cell_type": "code",
   "execution_count": 2,
   "id": "569c2e6a",
   "metadata": {},
   "outputs": [],
   "source": [
    "sent = ['the glass of milk', 'the glass of juice', 'the cup of tea', 'I am a good boy', 'I am a good developer', 'understand the meaning of words', 'your videos are good']"
   ]
  },
  {
   "cell_type": "code",
   "execution_count": 3,
   "id": "b9398e7b",
   "metadata": {},
   "outputs": [
    {
     "data": {
      "text/plain": [
       "['the glass of milk',\n",
       " 'the glass of juice',\n",
       " 'the cup of tea',\n",
       " 'I am a good boy',\n",
       " 'I am a good developer',\n",
       " 'understand the meaning of words',\n",
       " 'your videos are good']"
      ]
     },
     "execution_count": 3,
     "metadata": {},
     "output_type": "execute_result"
    }
   ],
   "source": [
    "sent"
   ]
  },
  {
   "cell_type": "code",
   "execution_count": 4,
   "id": "2a501e0d",
   "metadata": {},
   "outputs": [],
   "source": [
    "## Define vocabulary size\n",
    "voc_size = 1000\n",
    "\n",
    "one_hot_repr = [one_hot(words, voc_size)for words in sent]\n"
   ]
  },
  {
   "cell_type": "code",
   "execution_count": 5,
   "id": "07a571e5",
   "metadata": {},
   "outputs": [
    {
     "data": {
      "text/plain": [
       "[[966, 262, 693, 589],\n",
       " [966, 262, 693, 493],\n",
       " [966, 73, 693, 630],\n",
       " [363, 762, 101, 752, 529],\n",
       " [363, 762, 101, 752, 866],\n",
       " [635, 966, 193, 693, 253],\n",
       " [412, 295, 113, 752]]"
      ]
     },
     "execution_count": 5,
     "metadata": {},
     "output_type": "execute_result"
    }
   ],
   "source": [
    "one_hot_repr"
   ]
  },
  {
   "cell_type": "code",
   "execution_count": 6,
   "id": "ec059c46",
   "metadata": {},
   "outputs": [],
   "source": [
    "from tensorflow.keras.layers import Embedding\n",
    "from tensorflow.keras.utils import pad_sequences\n",
    "from tensorflow.keras.models import Sequential"
   ]
  },
  {
   "cell_type": "code",
   "execution_count": 7,
   "id": "1c259e26",
   "metadata": {},
   "outputs": [],
   "source": [
    "import numpy as np"
   ]
  },
  {
   "cell_type": "code",
   "execution_count": 8,
   "id": "4656a8b9",
   "metadata": {},
   "outputs": [
    {
     "name": "stdout",
     "output_type": "stream",
     "text": [
      "[[  0   0   0   0 966 262 693 589]\n",
      " [  0   0   0   0 966 262 693 493]\n",
      " [  0   0   0   0 966  73 693 630]\n",
      " [  0   0   0 363 762 101 752 529]\n",
      " [  0   0   0 363 762 101 752 866]\n",
      " [  0   0   0 635 966 193 693 253]\n",
      " [  0   0   0   0 412 295 113 752]]\n"
     ]
    }
   ],
   "source": [
    "sent_length = 8\n",
    "embedded_docs = pad_sequences(one_hot_repr, padding='pre', maxlen=sent_length)\n",
    "print(embedded_docs)"
   ]
  },
  {
   "cell_type": "code",
   "execution_count": null,
   "id": "0fd5a491",
   "metadata": {},
   "outputs": [],
   "source": []
  }
 ],
 "metadata": {
  "kernelspec": {
   "display_name": "base",
   "language": "python",
   "name": "python3"
  },
  "language_info": {
   "codemirror_mode": {
    "name": "ipython",
    "version": 3
   },
   "file_extension": ".py",
   "mimetype": "text/x-python",
   "name": "python",
   "nbconvert_exporter": "python",
   "pygments_lexer": "ipython3",
   "version": "3.11.7"
  }
 },
 "nbformat": 4,
 "nbformat_minor": 5
}
